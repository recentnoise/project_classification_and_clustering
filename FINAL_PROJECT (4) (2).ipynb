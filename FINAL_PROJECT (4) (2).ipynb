{
 "cells": [
  {
   "cell_type": "markdown",
   "metadata": {},
   "source": [
    "### Data Science Programming 2\n",
    "\n",
    "# Final Project "
   ]
  },
  {
   "cell_type": "markdown",
   "metadata": {},
   "source": [
    "## Tasks:\n",
    "### Task 1 - Classification with prepared dataset (75% of mark)\n",
    "### Task 2 - Clustering with any dataset (25% of mark)"
   ]
  },
  {
   "cell_type": "markdown",
   "metadata": {},
   "source": [
    "## Marking scheme \n",
    "For Final:\n",
    "1. Data and task presentation - 10%\n",
    "2. Data Preprocessing - 20%\n",
    "3. Model (variety, complexity, tunning) - 20%\n",
    "4. Imbalance (approaching this issue) - 20%\n",
    "5. Code quality - 10%\n",
    "6. Results and Defence - 20%\n",
    "\n",
    "*Note: add comments and description of the approaches that you use, for example, for resolving the problem of imbalanced data. Write descriptions of techniques that you apply, and you should understand them as well.*"
   ]
  },
  {
   "cell_type": "markdown",
   "metadata": {},
   "source": [
    "## Task 1:\n",
    "Мы постоянно работаем над улучшением качества своих продуктов и услуг для роста абонентской базы и минимизации оттока. В своей работе мы используем персональный подход к абонентам.\n",
    "Для снижения оттока компания использует разные каналы коммуникации с клиентами. Каждое предложение должно быть адресовано определенной целевой группе. В этом задании вам предстоит по имеющимся данным попытаться определить абонентов, которые уйдут в отток.\n",
    "\n",
    "**Что имеем**\n",
    "\n",
    "Анонимизированные данные об абонентах: язык обслуживания абонента, тарифный план, информация об объёмах потребления различных услуг оператора и другие.\n",
    "В файле data.csv содержится информация для построения модели.\n",
    "Формат строк: 3 категориальных признака (C1, C2, C3), 23 числовых признака (N1, …, N23) и целевая переменная — TARGET.\n",
    "\n",
    "**Что делать**\n",
    "\n",
    "Описать этапы построения модели, построить модель, оценить ее и рассказать бизнесу как ее применять, то есть нужна бизнес-интерпретация. \n",
    "\n",
    "*Note: this is how the task was originally structured, you can use it as a guidance.*"
   ]
  },
  {
   "cell_type": "code",
   "execution_count": 1,
   "metadata": {},
   "outputs": [],
   "source": [
    "import pandas as pd\n",
    "import matplotlib.pyplot as plt\n",
    "import seaborn as sns\n",
    "import numpy as np\n",
    "\n",
    "from sklearn.model_selection import train_test_split\n",
    "from sklearn.linear_model import LogisticRegression\n",
    "from sklearn.tree import DecisionTreeClassifier\n",
    "from sklearn.ensemble import AdaBoostClassifier,BaggingClassifier,ExtraTreesClassifier,GradientBoostingClassifier,RandomForestClassifier\n",
    "from sklearn.svm import SVC\n",
    "from xgboost import XGBClassifier\n",
    "from sklearn.metrics import accuracy_score,classification_report, confusion_matrix\n",
    "from sklearn.linear_model import SGDClassifier\n",
    "\n",
    "import warnings\n",
    "warnings.filterwarnings('ignore')\n",
    "import numpy as np\n",
    "import pandas as pd\n",
    "import seaborn as sns\n",
    "import matplotlib.pyplot as plt\n",
    "from scipy import stats\n",
    "from sklearn.metrics import r2_score\n",
    "from sklearn.metrics import mean_squared_log_error\n",
    "from sklearn.metrics import mean_squared_error as mse\n",
    "from sklearn.metrics import mean_absolute_error as mae"
   ]
  },
  {
   "cell_type": "code",
   "execution_count": 2,
   "metadata": {},
   "outputs": [
    {
     "data": {
      "text/html": [
       "<div>\n",
       "<style scoped>\n",
       "    .dataframe tbody tr th:only-of-type {\n",
       "        vertical-align: middle;\n",
       "    }\n",
       "\n",
       "    .dataframe tbody tr th {\n",
       "        vertical-align: top;\n",
       "    }\n",
       "\n",
       "    .dataframe thead th {\n",
       "        text-align: right;\n",
       "    }\n",
       "</style>\n",
       "<table border=\"1\" class=\"dataframe\">\n",
       "  <thead>\n",
       "    <tr style=\"text-align: right;\">\n",
       "      <th></th>\n",
       "      <th>C1</th>\n",
       "      <th>C2</th>\n",
       "      <th>C3</th>\n",
       "      <th>N1</th>\n",
       "      <th>N2</th>\n",
       "      <th>N3</th>\n",
       "      <th>N4</th>\n",
       "      <th>N5</th>\n",
       "      <th>N6</th>\n",
       "      <th>N7</th>\n",
       "      <th>...</th>\n",
       "      <th>N15</th>\n",
       "      <th>N16</th>\n",
       "      <th>N17</th>\n",
       "      <th>N18</th>\n",
       "      <th>N19</th>\n",
       "      <th>N20</th>\n",
       "      <th>N21</th>\n",
       "      <th>N22</th>\n",
       "      <th>N23</th>\n",
       "      <th>TARGET</th>\n",
       "    </tr>\n",
       "  </thead>\n",
       "  <tbody>\n",
       "    <tr>\n",
       "      <th>0</th>\n",
       "      <td>3139363536333839</td>\n",
       "      <td>323531</td>\n",
       "      <td>33</td>\n",
       "      <td>83.74</td>\n",
       "      <td>3172.92</td>\n",
       "      <td>181.48</td>\n",
       "      <td>24.83</td>\n",
       "      <td>9.60</td>\n",
       "      <td>0.00</td>\n",
       "      <td>0.00</td>\n",
       "      <td>...</td>\n",
       "      <td>7</td>\n",
       "      <td>0</td>\n",
       "      <td>0</td>\n",
       "      <td>36</td>\n",
       "      <td>7</td>\n",
       "      <td>36</td>\n",
       "      <td>7</td>\n",
       "      <td>0</td>\n",
       "      <td>0</td>\n",
       "      <td>0</td>\n",
       "    </tr>\n",
       "    <tr>\n",
       "      <th>1</th>\n",
       "      <td>3437333830323633</td>\n",
       "      <td>343835</td>\n",
       "      <td>31</td>\n",
       "      <td>1.46</td>\n",
       "      <td>1273.88</td>\n",
       "      <td>92.11</td>\n",
       "      <td>211.78</td>\n",
       "      <td>28.98</td>\n",
       "      <td>5.75</td>\n",
       "      <td>13.85</td>\n",
       "      <td>...</td>\n",
       "      <td>18</td>\n",
       "      <td>5</td>\n",
       "      <td>6</td>\n",
       "      <td>52</td>\n",
       "      <td>12</td>\n",
       "      <td>57</td>\n",
       "      <td>18</td>\n",
       "      <td>0</td>\n",
       "      <td>0</td>\n",
       "      <td>0</td>\n",
       "    </tr>\n",
       "    <tr>\n",
       "      <th>2</th>\n",
       "      <td>3134323931353339</td>\n",
       "      <td>323531</td>\n",
       "      <td>33</td>\n",
       "      <td>0.00</td>\n",
       "      <td>31.95</td>\n",
       "      <td>763.19</td>\n",
       "      <td>48.13</td>\n",
       "      <td>77.22</td>\n",
       "      <td>9.33</td>\n",
       "      <td>4.90</td>\n",
       "      <td>...</td>\n",
       "      <td>24</td>\n",
       "      <td>18</td>\n",
       "      <td>6</td>\n",
       "      <td>46</td>\n",
       "      <td>18</td>\n",
       "      <td>64</td>\n",
       "      <td>24</td>\n",
       "      <td>0</td>\n",
       "      <td>0</td>\n",
       "      <td>0</td>\n",
       "    </tr>\n",
       "    <tr>\n",
       "      <th>3</th>\n",
       "      <td>3431333831343031</td>\n",
       "      <td>343433</td>\n",
       "      <td>31</td>\n",
       "      <td>117.49</td>\n",
       "      <td>529.19</td>\n",
       "      <td>1506.40</td>\n",
       "      <td>127.67</td>\n",
       "      <td>49.30</td>\n",
       "      <td>6.25</td>\n",
       "      <td>0.20</td>\n",
       "      <td>...</td>\n",
       "      <td>57</td>\n",
       "      <td>4</td>\n",
       "      <td>1</td>\n",
       "      <td>142</td>\n",
       "      <td>56</td>\n",
       "      <td>148</td>\n",
       "      <td>57</td>\n",
       "      <td>0</td>\n",
       "      <td>0</td>\n",
       "      <td>0</td>\n",
       "    </tr>\n",
       "    <tr>\n",
       "      <th>4</th>\n",
       "      <td>3233343933313234</td>\n",
       "      <td>343835</td>\n",
       "      <td>31</td>\n",
       "      <td>0.00</td>\n",
       "      <td>38.24</td>\n",
       "      <td>3493.18</td>\n",
       "      <td>389.98</td>\n",
       "      <td>72.78</td>\n",
       "      <td>16.72</td>\n",
       "      <td>4.28</td>\n",
       "      <td>...</td>\n",
       "      <td>28</td>\n",
       "      <td>17</td>\n",
       "      <td>5</td>\n",
       "      <td>69</td>\n",
       "      <td>23</td>\n",
       "      <td>86</td>\n",
       "      <td>28</td>\n",
       "      <td>0</td>\n",
       "      <td>0</td>\n",
       "      <td>0</td>\n",
       "    </tr>\n",
       "  </tbody>\n",
       "</table>\n",
       "<p>5 rows × 27 columns</p>\n",
       "</div>"
      ],
      "text/plain": [
       "                 C1      C2  C3      N1       N2       N3      N4     N5  \\\n",
       "0  3139363536333839  323531  33   83.74  3172.92   181.48   24.83   9.60   \n",
       "1  3437333830323633  343835  31    1.46  1273.88    92.11  211.78  28.98   \n",
       "2  3134323931353339  323531  33    0.00    31.95   763.19   48.13  77.22   \n",
       "3  3431333831343031  343433  31  117.49   529.19  1506.40  127.67  49.30   \n",
       "4  3233343933313234  343835  31    0.00    38.24  3493.18  389.98  72.78   \n",
       "\n",
       "      N6     N7  ...  N15  N16  N17  N18  N19  N20  N21  N22  N23  TARGET  \n",
       "0   0.00   0.00  ...    7    0    0   36    7   36    7    0    0       0  \n",
       "1   5.75  13.85  ...   18    5    6   52   12   57   18    0    0       0  \n",
       "2   9.33   4.90  ...   24   18    6   46   18   64   24    0    0       0  \n",
       "3   6.25   0.20  ...   57    4    1  142   56  148   57    0    0       0  \n",
       "4  16.72   4.28  ...   28   17    5   69   23   86   28    0    0       0  \n",
       "\n",
       "[5 rows x 27 columns]"
      ]
     },
     "execution_count": 2,
     "metadata": {},
     "output_type": "execute_result"
    }
   ],
   "source": [
    "df = pd.read_csv('task1.csv', sep=';', decimal=\",\")\n",
    "df.head()"
   ]
  },
  {
   "cell_type": "markdown",
   "metadata": {},
   "source": [
    "## Data Preprocessing"
   ]
  },
  {
   "cell_type": "code",
   "execution_count": 3,
   "metadata": {},
   "outputs": [
    {
     "data": {
      "text/plain": [
       "(514009, 27)"
      ]
     },
     "execution_count": 3,
     "metadata": {},
     "output_type": "execute_result"
    }
   ],
   "source": [
    "df.shape"
   ]
  },
  {
   "cell_type": "code",
   "execution_count": 4,
   "metadata": {},
   "outputs": [],
   "source": [
    "# df.loc[df[:] == 0]"
   ]
  },
  {
   "cell_type": "code",
   "execution_count": 5,
   "metadata": {},
   "outputs": [
    {
     "data": {
      "text/plain": [
       "C1        0\n",
       "C2        0\n",
       "C3        0\n",
       "N1        0\n",
       "N2        0\n",
       "N3        0\n",
       "N4        0\n",
       "N5        0\n",
       "N6        0\n",
       "N7        0\n",
       "N8        0\n",
       "N9        0\n",
       "N10       0\n",
       "N11       0\n",
       "N12       0\n",
       "N13       0\n",
       "N14       0\n",
       "N15       0\n",
       "N16       0\n",
       "N17       0\n",
       "N18       0\n",
       "N19       0\n",
       "N20       0\n",
       "N21       0\n",
       "N22       0\n",
       "N23       0\n",
       "TARGET    0\n",
       "dtype: int64"
      ]
     },
     "execution_count": 5,
     "metadata": {},
     "output_type": "execute_result"
    }
   ],
   "source": [
    "df.isnull().sum()"
   ]
  },
  {
   "cell_type": "code",
   "execution_count": 6,
   "metadata": {},
   "outputs": [
    {
     "data": {
      "text/plain": [
       "C1        514009\n",
       "C2            64\n",
       "C3             3\n",
       "N1         41280\n",
       "N2        174054\n",
       "N3        237938\n",
       "N4         42917\n",
       "N5         27573\n",
       "N6          8139\n",
       "N7          7537\n",
       "N8         40539\n",
       "N9         26504\n",
       "N10        42915\n",
       "N11        27552\n",
       "N12         1104\n",
       "N13          672\n",
       "N14          633\n",
       "N15          415\n",
       "N16          236\n",
       "N17          225\n",
       "N18          565\n",
       "N19          330\n",
       "N20          632\n",
       "N21          416\n",
       "N22           49\n",
       "N23           36\n",
       "TARGET         2\n",
       "dtype: int64"
      ]
     },
     "execution_count": 6,
     "metadata": {},
     "output_type": "execute_result"
    }
   ],
   "source": [
    "df.nunique()"
   ]
  },
  {
   "cell_type": "code",
   "execution_count": 7,
   "metadata": {},
   "outputs": [],
   "source": [
    "df.drop('C1', axis=1, inplace=True)"
   ]
  },
  {
   "cell_type": "code",
   "execution_count": 8,
   "metadata": {},
   "outputs": [
    {
     "data": {
      "text/plain": [
       "Index(['C3', 'N1', 'N2', 'N3', 'N4', 'N5', 'N6', 'N7', 'N8', 'N9', 'N10',\n",
       "       'N11', 'N12', 'N13', 'N14', 'N15', 'N16', 'N17', 'N18', 'N19', 'N20',\n",
       "       'N21', 'N22', 'N23', 'TARGET'],\n",
       "      dtype='object')"
      ]
     },
     "execution_count": 8,
     "metadata": {},
     "output_type": "execute_result"
    }
   ],
   "source": [
    "df.iloc[:,1:26].columns"
   ]
  },
  {
   "cell_type": "code",
   "execution_count": 9,
   "metadata": {},
   "outputs": [
    {
     "data": {
      "text/html": [
       "<div>\n",
       "<style scoped>\n",
       "    .dataframe tbody tr th:only-of-type {\n",
       "        vertical-align: middle;\n",
       "    }\n",
       "\n",
       "    .dataframe tbody tr th {\n",
       "        vertical-align: top;\n",
       "    }\n",
       "\n",
       "    .dataframe thead th {\n",
       "        text-align: right;\n",
       "    }\n",
       "</style>\n",
       "<table border=\"1\" class=\"dataframe\">\n",
       "  <thead>\n",
       "    <tr style=\"text-align: right;\">\n",
       "      <th></th>\n",
       "      <th>C2</th>\n",
       "      <th>C3</th>\n",
       "      <th>N1</th>\n",
       "      <th>N2</th>\n",
       "      <th>N3</th>\n",
       "      <th>N4</th>\n",
       "      <th>N5</th>\n",
       "      <th>N6</th>\n",
       "      <th>N7</th>\n",
       "      <th>N8</th>\n",
       "      <th>...</th>\n",
       "      <th>N15</th>\n",
       "      <th>N16</th>\n",
       "      <th>N17</th>\n",
       "      <th>N18</th>\n",
       "      <th>N19</th>\n",
       "      <th>N20</th>\n",
       "      <th>N21</th>\n",
       "      <th>N22</th>\n",
       "      <th>N23</th>\n",
       "      <th>TARGET</th>\n",
       "    </tr>\n",
       "  </thead>\n",
       "  <tbody>\n",
       "    <tr>\n",
       "      <th>0</th>\n",
       "      <td>0.915675</td>\n",
       "      <td>1.0</td>\n",
       "      <td>0.002994</td>\n",
       "      <td>0.032742</td>\n",
       "      <td>0.000902</td>\n",
       "      <td>0.002700</td>\n",
       "      <td>0.001849</td>\n",
       "      <td>0.000000</td>\n",
       "      <td>0.000000</td>\n",
       "      <td>0.002701</td>\n",
       "      <td>...</td>\n",
       "      <td>0.005564</td>\n",
       "      <td>0.000000</td>\n",
       "      <td>0.000000</td>\n",
       "      <td>0.032462</td>\n",
       "      <td>0.006836</td>\n",
       "      <td>0.026746</td>\n",
       "      <td>0.005564</td>\n",
       "      <td>0.0</td>\n",
       "      <td>0.0</td>\n",
       "      <td>0.0</td>\n",
       "    </tr>\n",
       "    <tr>\n",
       "      <th>1</th>\n",
       "      <td>0.973704</td>\n",
       "      <td>0.0</td>\n",
       "      <td>0.000052</td>\n",
       "      <td>0.013146</td>\n",
       "      <td>0.000458</td>\n",
       "      <td>0.023025</td>\n",
       "      <td>0.005581</td>\n",
       "      <td>0.013013</td>\n",
       "      <td>0.013853</td>\n",
       "      <td>0.022409</td>\n",
       "      <td>...</td>\n",
       "      <td>0.014308</td>\n",
       "      <td>0.011628</td>\n",
       "      <td>0.012024</td>\n",
       "      <td>0.046889</td>\n",
       "      <td>0.011719</td>\n",
       "      <td>0.042348</td>\n",
       "      <td>0.014308</td>\n",
       "      <td>0.0</td>\n",
       "      <td>0.0</td>\n",
       "      <td>0.0</td>\n",
       "    </tr>\n",
       "    <tr>\n",
       "      <th>2</th>\n",
       "      <td>0.915675</td>\n",
       "      <td>1.0</td>\n",
       "      <td>0.000000</td>\n",
       "      <td>0.000330</td>\n",
       "      <td>0.003793</td>\n",
       "      <td>0.005233</td>\n",
       "      <td>0.014871</td>\n",
       "      <td>0.021114</td>\n",
       "      <td>0.004901</td>\n",
       "      <td>0.004220</td>\n",
       "      <td>...</td>\n",
       "      <td>0.019078</td>\n",
       "      <td>0.041860</td>\n",
       "      <td>0.012024</td>\n",
       "      <td>0.041479</td>\n",
       "      <td>0.017578</td>\n",
       "      <td>0.047548</td>\n",
       "      <td>0.019078</td>\n",
       "      <td>0.0</td>\n",
       "      <td>0.0</td>\n",
       "      <td>0.0</td>\n",
       "    </tr>\n",
       "    <tr>\n",
       "      <th>3</th>\n",
       "      <td>0.972555</td>\n",
       "      <td>0.0</td>\n",
       "      <td>0.004200</td>\n",
       "      <td>0.005461</td>\n",
       "      <td>0.007486</td>\n",
       "      <td>0.013881</td>\n",
       "      <td>0.009494</td>\n",
       "      <td>0.014144</td>\n",
       "      <td>0.000200</td>\n",
       "      <td>0.013059</td>\n",
       "      <td>...</td>\n",
       "      <td>0.045310</td>\n",
       "      <td>0.009302</td>\n",
       "      <td>0.002004</td>\n",
       "      <td>0.128043</td>\n",
       "      <td>0.054688</td>\n",
       "      <td>0.109955</td>\n",
       "      <td>0.045310</td>\n",
       "      <td>0.0</td>\n",
       "      <td>0.0</td>\n",
       "      <td>0.0</td>\n",
       "    </tr>\n",
       "    <tr>\n",
       "      <th>4</th>\n",
       "      <td>0.973704</td>\n",
       "      <td>0.0</td>\n",
       "      <td>0.000000</td>\n",
       "      <td>0.000395</td>\n",
       "      <td>0.017359</td>\n",
       "      <td>0.042400</td>\n",
       "      <td>0.014016</td>\n",
       "      <td>0.037838</td>\n",
       "      <td>0.004281</td>\n",
       "      <td>0.040598</td>\n",
       "      <td>...</td>\n",
       "      <td>0.022258</td>\n",
       "      <td>0.039535</td>\n",
       "      <td>0.010020</td>\n",
       "      <td>0.062218</td>\n",
       "      <td>0.022461</td>\n",
       "      <td>0.063893</td>\n",
       "      <td>0.022258</td>\n",
       "      <td>0.0</td>\n",
       "      <td>0.0</td>\n",
       "      <td>0.0</td>\n",
       "    </tr>\n",
       "    <tr>\n",
       "      <th>...</th>\n",
       "      <td>...</td>\n",
       "      <td>...</td>\n",
       "      <td>...</td>\n",
       "      <td>...</td>\n",
       "      <td>...</td>\n",
       "      <td>...</td>\n",
       "      <td>...</td>\n",
       "      <td>...</td>\n",
       "      <td>...</td>\n",
       "      <td>...</td>\n",
       "      <td>...</td>\n",
       "      <td>...</td>\n",
       "      <td>...</td>\n",
       "      <td>...</td>\n",
       "      <td>...</td>\n",
       "      <td>...</td>\n",
       "      <td>...</td>\n",
       "      <td>...</td>\n",
       "      <td>...</td>\n",
       "      <td>...</td>\n",
       "      <td>...</td>\n",
       "    </tr>\n",
       "    <tr>\n",
       "      <th>514004</th>\n",
       "      <td>0.886547</td>\n",
       "      <td>0.0</td>\n",
       "      <td>0.000000</td>\n",
       "      <td>0.000000</td>\n",
       "      <td>0.000000</td>\n",
       "      <td>0.000000</td>\n",
       "      <td>0.000000</td>\n",
       "      <td>0.000000</td>\n",
       "      <td>0.000000</td>\n",
       "      <td>0.000000</td>\n",
       "      <td>...</td>\n",
       "      <td>0.000000</td>\n",
       "      <td>0.000000</td>\n",
       "      <td>0.000000</td>\n",
       "      <td>0.000000</td>\n",
       "      <td>0.000000</td>\n",
       "      <td>0.000000</td>\n",
       "      <td>0.000000</td>\n",
       "      <td>0.0</td>\n",
       "      <td>0.0</td>\n",
       "      <td>1.0</td>\n",
       "    </tr>\n",
       "    <tr>\n",
       "      <th>514005</th>\n",
       "      <td>0.886547</td>\n",
       "      <td>0.0</td>\n",
       "      <td>0.000000</td>\n",
       "      <td>0.000000</td>\n",
       "      <td>0.000000</td>\n",
       "      <td>0.000000</td>\n",
       "      <td>0.000023</td>\n",
       "      <td>0.000000</td>\n",
       "      <td>0.000120</td>\n",
       "      <td>0.000000</td>\n",
       "      <td>...</td>\n",
       "      <td>0.000795</td>\n",
       "      <td>0.000000</td>\n",
       "      <td>0.002004</td>\n",
       "      <td>0.000000</td>\n",
       "      <td>0.000000</td>\n",
       "      <td>0.000000</td>\n",
       "      <td>0.000795</td>\n",
       "      <td>0.0</td>\n",
       "      <td>0.0</td>\n",
       "      <td>0.0</td>\n",
       "    </tr>\n",
       "    <tr>\n",
       "      <th>514006</th>\n",
       "      <td>0.973138</td>\n",
       "      <td>0.0</td>\n",
       "      <td>0.000000</td>\n",
       "      <td>0.000000</td>\n",
       "      <td>0.000000</td>\n",
       "      <td>0.000000</td>\n",
       "      <td>0.000245</td>\n",
       "      <td>0.000000</td>\n",
       "      <td>0.001270</td>\n",
       "      <td>0.000000</td>\n",
       "      <td>...</td>\n",
       "      <td>0.000795</td>\n",
       "      <td>0.000000</td>\n",
       "      <td>0.002004</td>\n",
       "      <td>0.000000</td>\n",
       "      <td>0.000000</td>\n",
       "      <td>0.000000</td>\n",
       "      <td>0.000795</td>\n",
       "      <td>0.0</td>\n",
       "      <td>0.0</td>\n",
       "      <td>0.0</td>\n",
       "    </tr>\n",
       "    <tr>\n",
       "      <th>514007</th>\n",
       "      <td>0.886547</td>\n",
       "      <td>0.0</td>\n",
       "      <td>0.000000</td>\n",
       "      <td>0.000000</td>\n",
       "      <td>0.000000</td>\n",
       "      <td>0.000000</td>\n",
       "      <td>0.000000</td>\n",
       "      <td>0.000000</td>\n",
       "      <td>0.000000</td>\n",
       "      <td>0.000000</td>\n",
       "      <td>...</td>\n",
       "      <td>0.000000</td>\n",
       "      <td>0.000000</td>\n",
       "      <td>0.000000</td>\n",
       "      <td>0.000000</td>\n",
       "      <td>0.000000</td>\n",
       "      <td>0.000000</td>\n",
       "      <td>0.000000</td>\n",
       "      <td>0.0</td>\n",
       "      <td>0.0</td>\n",
       "      <td>1.0</td>\n",
       "    </tr>\n",
       "    <tr>\n",
       "      <th>514008</th>\n",
       "      <td>0.971426</td>\n",
       "      <td>0.0</td>\n",
       "      <td>0.000000</td>\n",
       "      <td>0.000000</td>\n",
       "      <td>0.000000</td>\n",
       "      <td>0.000000</td>\n",
       "      <td>0.000000</td>\n",
       "      <td>0.000000</td>\n",
       "      <td>0.000000</td>\n",
       "      <td>0.000000</td>\n",
       "      <td>...</td>\n",
       "      <td>0.000000</td>\n",
       "      <td>0.000000</td>\n",
       "      <td>0.000000</td>\n",
       "      <td>0.000000</td>\n",
       "      <td>0.000000</td>\n",
       "      <td>0.000000</td>\n",
       "      <td>0.000000</td>\n",
       "      <td>0.0</td>\n",
       "      <td>0.0</td>\n",
       "      <td>0.0</td>\n",
       "    </tr>\n",
       "  </tbody>\n",
       "</table>\n",
       "<p>514009 rows × 26 columns</p>\n",
       "</div>"
      ],
      "text/plain": [
       "              C2   C3        N1        N2        N3        N4        N5  \\\n",
       "0       0.915675  1.0  0.002994  0.032742  0.000902  0.002700  0.001849   \n",
       "1       0.973704  0.0  0.000052  0.013146  0.000458  0.023025  0.005581   \n",
       "2       0.915675  1.0  0.000000  0.000330  0.003793  0.005233  0.014871   \n",
       "3       0.972555  0.0  0.004200  0.005461  0.007486  0.013881  0.009494   \n",
       "4       0.973704  0.0  0.000000  0.000395  0.017359  0.042400  0.014016   \n",
       "...          ...  ...       ...       ...       ...       ...       ...   \n",
       "514004  0.886547  0.0  0.000000  0.000000  0.000000  0.000000  0.000000   \n",
       "514005  0.886547  0.0  0.000000  0.000000  0.000000  0.000000  0.000023   \n",
       "514006  0.973138  0.0  0.000000  0.000000  0.000000  0.000000  0.000245   \n",
       "514007  0.886547  0.0  0.000000  0.000000  0.000000  0.000000  0.000000   \n",
       "514008  0.971426  0.0  0.000000  0.000000  0.000000  0.000000  0.000000   \n",
       "\n",
       "              N6        N7        N8  ...       N15       N16       N17  \\\n",
       "0       0.000000  0.000000  0.002701  ...  0.005564  0.000000  0.000000   \n",
       "1       0.013013  0.013853  0.022409  ...  0.014308  0.011628  0.012024   \n",
       "2       0.021114  0.004901  0.004220  ...  0.019078  0.041860  0.012024   \n",
       "3       0.014144  0.000200  0.013059  ...  0.045310  0.009302  0.002004   \n",
       "4       0.037838  0.004281  0.040598  ...  0.022258  0.039535  0.010020   \n",
       "...          ...       ...       ...  ...       ...       ...       ...   \n",
       "514004  0.000000  0.000000  0.000000  ...  0.000000  0.000000  0.000000   \n",
       "514005  0.000000  0.000120  0.000000  ...  0.000795  0.000000  0.002004   \n",
       "514006  0.000000  0.001270  0.000000  ...  0.000795  0.000000  0.002004   \n",
       "514007  0.000000  0.000000  0.000000  ...  0.000000  0.000000  0.000000   \n",
       "514008  0.000000  0.000000  0.000000  ...  0.000000  0.000000  0.000000   \n",
       "\n",
       "             N18       N19       N20       N21  N22  N23  TARGET  \n",
       "0       0.032462  0.006836  0.026746  0.005564  0.0  0.0     0.0  \n",
       "1       0.046889  0.011719  0.042348  0.014308  0.0  0.0     0.0  \n",
       "2       0.041479  0.017578  0.047548  0.019078  0.0  0.0     0.0  \n",
       "3       0.128043  0.054688  0.109955  0.045310  0.0  0.0     0.0  \n",
       "4       0.062218  0.022461  0.063893  0.022258  0.0  0.0     0.0  \n",
       "...          ...       ...       ...       ...  ...  ...     ...  \n",
       "514004  0.000000  0.000000  0.000000  0.000000  0.0  0.0     1.0  \n",
       "514005  0.000000  0.000000  0.000000  0.000795  0.0  0.0     0.0  \n",
       "514006  0.000000  0.000000  0.000000  0.000795  0.0  0.0     0.0  \n",
       "514007  0.000000  0.000000  0.000000  0.000000  0.0  0.0     1.0  \n",
       "514008  0.000000  0.000000  0.000000  0.000000  0.0  0.0     0.0  \n",
       "\n",
       "[514009 rows x 26 columns]"
      ]
     },
     "execution_count": 9,
     "metadata": {},
     "output_type": "execute_result"
    }
   ],
   "source": [
    "from sklearn.preprocessing import LabelEncoder, OneHotEncoder, MinMaxScaler, StandardScaler\n",
    "scaler = MinMaxScaler()\n",
    "\n",
    "# apply scaler() to all the numeric columns \n",
    "df[:] = scaler.fit_transform(df)\n",
    "df"
   ]
  },
  {
   "cell_type": "code",
   "execution_count": 10,
   "metadata": {},
   "outputs": [
    {
     "data": {
      "image/png": "[encoded data removed]",
      "text/plain": [
       "<Figure size 432x288 with 1 Axes>"
      ]
     },
     "metadata": {
      "needs_background": "light"
     },
     "output_type": "display_data"
    }
   ],
   "source": [
    "g = sns.countplot(df['TARGET'])\n",
    "g.set_xticklabels(['0','1'])\n",
    "plt.show()"
   ]
  },
  {
   "cell_type": "markdown",
   "metadata": {},
   "source": [
    "## Model and Imbalance issue"
   ]
  },
  {
   "cell_type": "code",
   "execution_count": 11,
   "metadata": {},
   "outputs": [],
   "source": [
    "X=df.drop('TARGET',axis=1)\n",
    "y=df['TARGET']"
   ]
  },
  {
   "cell_type": "code",
   "execution_count": 12,
   "metadata": {},
   "outputs": [],
   "source": [
    "X_train, X_test_main, y_train, y_test_main = train_test_split(X, y, test_size= 0.2, random_state=45)"
   ]
  },
  {
   "cell_type": "code",
   "execution_count": 13,
   "metadata": {},
   "outputs": [],
   "source": [
    "# from imblearn.over_sampling import SMOTE\n",
    "\n",
    "# smote = SMOTE()\n",
    "\n",
    "# print('Initial train dataset shape:')\n",
    "# print(y_train.value_counts())\n",
    "\n",
    "# # fit predictor and target variable\n",
    "# X_train, y_train = smote.fit_resample(X_train, y_train)\n",
    "\n",
    "# print('Shape after resampling:')\n",
    "# print(y_train.value_counts())"
   ]
  },
  {
   "cell_type": "code",
   "execution_count": 15,
   "metadata": {},
   "outputs": [],
   "source": [
    "from imblearn.over_sampling import RandomOverSampler\n",
    "\n",
    "#ros = RandomOverSampler(sampling_strategy=1) # Float\n",
    "ros = RandomOverSampler(sampling_strategy=\"not majority\") # String\n",
    "X_train, y_train = ros.fit_resample(X_train, y_train)"
   ]
  },
  {
   "cell_type": "code",
   "execution_count": 16,
   "metadata": {},
   "outputs": [],
   "source": [
    "# Again splitting train data into train and test\n",
    "X_train1, X_test_of_train, y_train1, y_test_of_train = train_test_split(X_train, y_train, test_size= 0.2, random_state=45)"
   ]
  },
  {
   "cell_type": "code",
   "execution_count": 17,
   "metadata": {},
   "outputs": [],
   "source": [
    "from sklearn import metrics"
   ]
  },
  {
   "cell_type": "code",
   "execution_count": 18,
   "metadata": {},
   "outputs": [],
   "source": [
    "def forward_stepwise_selection(data, target, test_x,test_y):\n",
    "    total_features = [[]]\n",
    "    score_dict = {}\n",
    "    remaining_features = [col for col in data.columns]\n",
    "    for i in range(1, 16):\n",
    "        best_score = 0; best_feature = None\n",
    "        for feature in remaining_features:\n",
    "\n",
    "            X = total_features[i-1] + [feature]\n",
    "            model = DecisionTreeClassifier().fit(data[X], target)\n",
    "#             score = metrics.precision_score(test_y, model.predict(test_x[X]), average='macro')\n",
    "            score=classification_report(test_y, model.predict(test_x[X]), output_dict=True)['1.0']['precision']\n",
    "#             report=classification_report(test_y, model.predict(test_x[X]))\n",
    "\n",
    "            if score > best_score:\n",
    "                best_score = score\n",
    "                best_feature = feature\n",
    "#                 best_report=report\n",
    "        print(best_score)\n",
    "#         print(best_report)\n",
    "        total_features.append(total_features[i-1] + [best_feature])\n",
    "        remaining_features.remove(best_feature)\n",
    "        score_dict[i] = best_score\n",
    "    return total_features,score_dict"
   ]
  },
  {
   "cell_type": "code",
   "execution_count": 19,
   "metadata": {},
   "outputs": [
    {
     "name": "stdout",
     "output_type": "stream",
     "text": [
      "0.1777671553006161\n",
      "0.18364961878791253\n",
      "0.17866167997574042\n",
      "0.22223865148602692\n",
      "0.26833199033037874\n",
      "0.2863903959367425\n",
      "0.2948096046568033\n",
      "0.29868027888446214\n",
      "0.3026849037487335\n",
      "0.3036055548477513\n",
      "0.30608340772860604\n",
      "0.30503064351378956\n",
      "0.3035875016073036\n",
      "0.3039090444557997\n",
      "0.304554201411161\n"
     ]
    }
   ],
   "source": [
    "total_features_fwd, score_dict_fwd = forward_stepwise_selection(X_train1,y_train1, X_test_main, y_test_main)"
   ]
  },
  {
   "cell_type": "code",
   "execution_count": 20,
   "metadata": {},
   "outputs": [],
   "source": [
    "feat_names=total_features_fwd[-1]"
   ]
  },
  {
   "cell_type": "code",
   "execution_count": 21,
   "metadata": {},
   "outputs": [
    {
     "data": {
      "text/plain": [
       "['N19',\n",
       " 'C3',\n",
       " 'N3',\n",
       " 'N11',\n",
       " 'C2',\n",
       " 'N4',\n",
       " 'N2',\n",
       " 'N1',\n",
       " 'N7',\n",
       " 'N18',\n",
       " 'N16',\n",
       " 'N14',\n",
       " 'N23',\n",
       " 'N13',\n",
       " 'N20']"
      ]
     },
     "execution_count": 21,
     "metadata": {},
     "output_type": "execute_result"
    }
   ],
   "source": [
    "feat_names"
   ]
  },
  {
   "cell_type": "code",
   "execution_count": 27,
   "metadata": {},
   "outputs": [],
   "source": [
    "# ['N19','C3','N3','N11','C2','N4','N2','N1','N7','N18','N16','N14','N23','N13','N20']"
   ]
  },
  {
   "cell_type": "code",
   "execution_count": 38,
   "metadata": {},
   "outputs": [],
   "source": [
    "X_train1=X_train1[feat_names]\n",
    "X_test_main=X_test_main[feat_names]\n",
    "X_test_of_train=X_test_of_train[feat_names]\n",
    "X_train=X_train[feat_names]"
   ]
  },
  {
   "cell_type": "code",
   "execution_count": 39,
   "metadata": {},
   "outputs": [],
   "source": [
    "model1 = LogisticRegression()\n",
    "model1.fit(X_train1, y_train1)\n",
    "\n",
    "y_train_pred=model1.predict(X_test_of_train)\n",
    "train_score=accuracy_score(y_test_of_train, y_train_pred)\n",
    "\n",
    "y_test_pred=model1.predict(X_test_main)\n",
    "test_score=accuracy_score(y_test_main, y_test_pred)\n",
    "\n"
   ]
  },
  {
   "cell_type": "code",
   "execution_count": 40,
   "metadata": {},
   "outputs": [
    {
     "name": "stdout",
     "output_type": "stream",
     "text": [
      "Train Accuracy Score: 0.7491687129118069\n",
      "Test Accuracy Score: 0.6597439738526488\n",
      "              precision    recall  f1-score   support\n",
      "\n",
      "         0.0       0.99      0.65      0.78     97706\n",
      "         1.0       0.11      0.85      0.20      5096\n",
      "\n",
      "    accuracy                           0.66    102802\n",
      "   macro avg       0.55      0.75      0.49    102802\n",
      "weighted avg       0.94      0.66      0.76    102802\n",
      "\n"
     ]
    }
   ],
   "source": [
    "print(\"Train Accuracy Score: {}\".format(train_score))\n",
    "print(\"Test Accuracy Score: {}\".format(test_score))\n",
    "print(classification_report(y_test_main, y_test_pred))\n",
    "\n",
    "acc_score=accuracy_score(y_test_main, y_test_pred)\n",
    "report = classification_report(y_test_main, y_test_pred, output_dict=True)\n",
    "macro_precision =  report['macro avg']['precision'] \n",
    "macro_recall = report['macro avg']['recall']    \n",
    "macro_f1 = report['macro avg']['f1-score']\n",
    "# print(report)\n",
    "\n",
    "result = pd.DataFrame({'Algorithm used':['Logistic Regression'],'Accuracy score':[acc_score],\n",
    "                       'Macro precision':[macro_precision], 'Macro recall':[macro_recall], 'Macro F1':[macro_f1]})"
   ]
  },
  {
   "cell_type": "code",
   "execution_count": 41,
   "metadata": {},
   "outputs": [
    {
     "data": {
      "text/html": [
       "<div>\n",
       "<style scoped>\n",
       "    .dataframe tbody tr th:only-of-type {\n",
       "        vertical-align: middle;\n",
       "    }\n",
       "\n",
       "    .dataframe tbody tr th {\n",
       "        vertical-align: top;\n",
       "    }\n",
       "\n",
       "    .dataframe thead th {\n",
       "        text-align: right;\n",
       "    }\n",
       "</style>\n",
       "<table border=\"1\" class=\"dataframe\">\n",
       "  <thead>\n",
       "    <tr style=\"text-align: right;\">\n",
       "      <th></th>\n",
       "      <th>Algorithm used</th>\n",
       "      <th>Accuracy score</th>\n",
       "      <th>Macro precision</th>\n",
       "      <th>Macro recall</th>\n",
       "      <th>Macro F1</th>\n",
       "    </tr>\n",
       "  </thead>\n",
       "  <tbody>\n",
       "    <tr>\n",
       "      <th>0</th>\n",
       "      <td>Logistic Regression</td>\n",
       "      <td>0.659744</td>\n",
       "      <td>0.550123</td>\n",
       "      <td>0.749297</td>\n",
       "      <td>0.491155</td>\n",
       "    </tr>\n",
       "  </tbody>\n",
       "</table>\n",
       "</div>"
      ],
      "text/plain": [
       "        Algorithm used  Accuracy score  Macro precision  Macro recall  \\\n",
       "0  Logistic Regression        0.659744         0.550123      0.749297   \n",
       "\n",
       "   Macro F1  \n",
       "0  0.491155  "
      ]
     },
     "execution_count": 41,
     "metadata": {},
     "output_type": "execute_result"
    }
   ],
   "source": [
    "result"
   ]
  },
  {
   "cell_type": "code",
   "execution_count": 42,
   "metadata": {},
   "outputs": [
    {
     "name": "stdout",
     "output_type": "stream",
     "text": [
      "Train Accuracy Score: 0.9718129731941887\n",
      "Test Accuracy Score: 0.9203031069434446\n",
      "              precision    recall  f1-score   support\n",
      "\n",
      "         0.0       0.97      0.94      0.96     97706\n",
      "         1.0       0.30      0.46      0.37      5096\n",
      "\n",
      "    accuracy                           0.92    102802\n",
      "   macro avg       0.64      0.70      0.66    102802\n",
      "weighted avg       0.94      0.92      0.93    102802\n",
      "\n"
     ]
    }
   ],
   "source": [
    "model2 = DecisionTreeClassifier()\n",
    "model2.fit(X_train1, y_train1)\n",
    "\n",
    "y_train_pred=model2.predict(X_test_of_train)\n",
    "train_score=accuracy_score(y_test_of_train, y_train_pred)\n",
    "\n",
    "y_test_pred=model2.predict(X_test_main)\n",
    "test_score=accuracy_score(y_test_main, y_test_pred)\n",
    "\n",
    "print(\"Train Accuracy Score: {}\".format(train_score))\n",
    "print(\"Test Accuracy Score: {}\".format(test_score))\n",
    "print(classification_report(y_test_main, y_test_pred))\n"
   ]
  },
  {
   "cell_type": "code",
   "execution_count": 43,
   "metadata": {},
   "outputs": [
    {
     "name": "stdout",
     "output_type": "stream",
     "text": [
      "[[92254  5452]\n",
      " [ 2741  2355]]\n"
     ]
    }
   ],
   "source": [
    "print(confusion_matrix(y_test_main, y_test_pred))"
   ]
  },
  {
   "cell_type": "code",
   "execution_count": 44,
   "metadata": {},
   "outputs": [
    {
     "name": "stdout",
     "output_type": "stream",
     "text": [
      "Train Accuracy Score: 0.9718129731941887\n",
      "Test Accuracy Score: 0.9203031069434446\n",
      "              precision    recall  f1-score   support\n",
      "\n",
      "         0.0       0.97      0.94      0.96     97706\n",
      "         1.0       0.30      0.46      0.37      5096\n",
      "\n",
      "    accuracy                           0.92    102802\n",
      "   macro avg       0.64      0.70      0.66    102802\n",
      "weighted avg       0.94      0.92      0.93    102802\n",
      "\n"
     ]
    }
   ],
   "source": [
    "print(\"Train Accuracy Score: {}\".format(train_score))\n",
    "print(\"Test Accuracy Score: {}\".format(test_score))\n",
    "print(classification_report(y_test_main, y_test_pred))\n",
    "\n",
    "acc_score=accuracy_score(y_test_main, y_test_pred)\n",
    "report = classification_report(y_test_main, y_test_pred, output_dict=True)\n",
    "macro_precision =  report['macro avg']['precision'] \n",
    "macro_recall = report['macro avg']['recall']    \n",
    "macro_f1 = report['macro avg']['f1-score']\n",
    "result.loc[len(result)] = ['Decision Trees', acc_score , macro_precision, macro_recall, macro_f1]"
   ]
  },
  {
   "cell_type": "code",
   "execution_count": 45,
   "metadata": {},
   "outputs": [
    {
     "name": "stdout",
     "output_type": "stream",
     "text": [
      "Fitting 3 folds for each of 56 candidates, totalling 168 fits\n"
     ]
    }
   ],
   "source": [
    "from sklearn.model_selection import GridSearchCV\n",
    "max_depth = [1, 3, 5, 7, 10, 15, 25, 26]\n",
    "#min_samples_split = [2, 5, 10, 15, 100]\n",
    "#min_samples_leaf = [1, 2, 5, 10]\n",
    "max_features = [1, 2, 5, 10, 15,20,26]\n",
    "\n",
    "model2 = DecisionTreeClassifier()\n",
    "#Creating a dictionary for the hyper parameters\n",
    "hyperT = dict(max_depth = max_depth, max_features=max_features)\n",
    "\n",
    "#Applying GridSearchCV to get the best value for hyperparameters\n",
    "gridT = GridSearchCV(model2, hyperT, cv = 3, verbose = 1, n_jobs = -1)\n",
    "bestT = gridT.fit(X_train1, y_train1)"
   ]
  },
  {
   "cell_type": "code",
   "execution_count": 46,
   "metadata": {},
   "outputs": [
    {
     "name": "stdout",
     "output_type": "stream",
     "text": [
      "The best hyper parameters are: \n",
      " {'max_depth': 26, 'max_features': 10}\n"
     ]
    }
   ],
   "source": [
    "print('The best hyper parameters are: \\n',gridT.best_params_)"
   ]
  },
  {
   "cell_type": "code",
   "execution_count": 47,
   "metadata": {},
   "outputs": [
    {
     "name": "stdout",
     "output_type": "stream",
     "text": [
      "Train Accuracy Score: 0.9420720789850624\n",
      "Test Accuracy Score: 0.8834653022314741\n"
     ]
    }
   ],
   "source": [
    "model3 = DecisionTreeClassifier(max_depth=26, max_features=10)\n",
    "model3.fit(X_train1, y_train1)\n",
    "\n",
    "y_train_pred=model3.predict(X_test_of_train)\n",
    "train_score=accuracy_score(y_test_of_train, y_train_pred)\n",
    "\n",
    "y_test_pred=model3.predict(X_test_main)\n",
    "test_score=accuracy_score(y_test_main, y_test_pred)\n",
    "\n",
    "print(\"Train Accuracy Score: {}\".format(train_score))\n",
    "print(\"Test Accuracy Score: {}\".format(test_score))"
   ]
  },
  {
   "cell_type": "code",
   "execution_count": 48,
   "metadata": {},
   "outputs": [],
   "source": [
    "acc_score=accuracy_score(y_test_main, y_test_pred)\n",
    "report = classification_report(y_test_main, y_test_pred, output_dict=True)\n",
    "macro_precision =  report['macro avg']['precision'] \n",
    "macro_recall = report['macro avg']['recall']    \n",
    "macro_f1 = report['macro avg']['f1-score']\n",
    "result.loc[len(result)] = ['Decision Trees with Tuning', acc_score , macro_precision, macro_recall, macro_f1]"
   ]
  },
  {
   "cell_type": "code",
   "execution_count": 49,
   "metadata": {},
   "outputs": [
    {
     "name": "stdout",
     "output_type": "stream",
     "text": [
      "Train Accuracy Score: 0.9833550746879476\n",
      "Test Accuracy Score: 0.9413046438785238\n"
     ]
    }
   ],
   "source": [
    "model4 = RandomForestClassifier()\n",
    "model4.fit(X_train1, y_train1)\n",
    "\n",
    "y_train_pred=model4.predict(X_test_of_train)\n",
    "train_score=accuracy_score(y_test_of_train, y_train_pred)\n",
    "\n",
    "y_test_pred=model4.predict(X_test_main)\n",
    "test_score=accuracy_score(y_test_main, y_test_pred)\n",
    "\n",
    "print(\"Train Accuracy Score: {}\".format(train_score))\n",
    "print(\"Test Accuracy Score: {}\".format(test_score))"
   ]
  },
  {
   "cell_type": "code",
   "execution_count": 50,
   "metadata": {},
   "outputs": [
    {
     "name": "stdout",
     "output_type": "stream",
     "text": [
      "              precision    recall  f1-score   support\n",
      "\n",
      "         0.0       0.97      0.97      0.97     97706\n",
      "         1.0       0.41      0.44      0.43      5096\n",
      "\n",
      "    accuracy                           0.94    102802\n",
      "   macro avg       0.69      0.71      0.70    102802\n",
      "weighted avg       0.94      0.94      0.94    102802\n",
      "\n"
     ]
    }
   ],
   "source": [
    "print(classification_report(y_test_main, y_test_pred))"
   ]
  },
  {
   "cell_type": "code",
   "execution_count": 51,
   "metadata": {},
   "outputs": [],
   "source": [
    "acc_score=accuracy_score(y_test_main, y_test_pred)\n",
    "report = classification_report(y_test_main, y_test_pred, output_dict=True)\n",
    "macro_precision =  report['macro avg']['precision'] \n",
    "macro_recall = report['macro avg']['recall']    \n",
    "macro_f1 = report['macro avg']['f1-score']\n",
    "result.loc[len(result)] = ['Random Forest', acc_score , macro_precision, macro_recall, macro_f1]"
   ]
  },
  {
   "cell_type": "code",
   "execution_count": 53,
   "metadata": {},
   "outputs": [
    {
     "name": "stdout",
     "output_type": "stream",
     "text": [
      "[19:46:47] WARNING: C:/Users/Administrator/workspace/xgboost-win64_release_1.5.1/src/learner.cc:1115: Starting in XGBoost 1.3.0, the default evaluation metric used with the objective 'binary:logistic' was changed from 'error' to 'logloss'. Explicitly set eval_metric if you'd like to restore the old behavior.\n",
      "Train Accuracy Score: 0.831389400450174\n",
      "Test Accuracy Score: 0.8178829205657477\n"
     ]
    }
   ],
   "source": [
    "model5 = XGBClassifier()\n",
    "model5.fit(X_train1, y_train1)\n",
    "\n",
    "y_train_pred=model5.predict(X_test_of_train)\n",
    "train_score=accuracy_score(y_test_of_train, y_train_pred)\n",
    "\n",
    "y_test_pred=model5.predict(X_test_main)\n",
    "test_score=accuracy_score(y_test_main, y_test_pred)\n",
    "\n",
    "print(\"Train Accuracy Score: {}\".format(train_score))\n",
    "print(\"Test Accuracy Score: {}\".format(test_score))"
   ]
  },
  {
   "cell_type": "code",
   "execution_count": 54,
   "metadata": {},
   "outputs": [],
   "source": [
    "acc_score=accuracy_score(y_test_main, y_test_pred)\n",
    "report = classification_report(y_test_main, y_test_pred, output_dict=True)\n",
    "macro_precision =  report['macro avg']['precision'] \n",
    "macro_recall = report['macro avg']['recall']    \n",
    "macro_f1 = report['macro avg']['f1-score']\n",
    "result.loc[len(result)] = ['XGBClassifier', acc_score , macro_precision, macro_recall, macro_f1]"
   ]
  },
  {
   "cell_type": "code",
   "execution_count": 58,
   "metadata": {},
   "outputs": [
    {
     "name": "stdout",
     "output_type": "stream",
     "text": [
      "Train Accuracy Score: 0.831389400450174\n",
      "Test Accuracy Score: 0.9398066185482773\n"
     ]
    }
   ],
   "source": [
    "model6 = BaggingClassifier() ExtraTreesClassifier\n",
    "model6.fit(X_train1, y_train1)\n",
    "\n",
    "y_train_pred=model6.predict(X_test_of_train)\n",
    "train_score=accuracy_score(y_test_of_train, y_train_pred)\n",
    "\n",
    "y_test_pred=model6.predict(X_test_main)\n",
    "test_score=accuracy_score(y_test_main, y_test_pred)\n",
    "\n",
    "print(\"Train Accuracy Score: {}\".format(train_score))\n",
    "print(\"Test Accuracy Score: {}\".format(test_score))"
   ]
  },
  {
   "cell_type": "code",
   "execution_count": 59,
   "metadata": {},
   "outputs": [],
   "source": [
    "acc_score=accuracy_score(y_test_main, y_test_pred)\n",
    "report = classification_report(y_test_main, y_test_pred, output_dict=True)\n",
    "macro_precision =  report['macro avg']['precision'] \n",
    "macro_recall = report['macro avg']['recall']    \n",
    "macro_f1 = report['macro avg']['f1-score']\n",
    "result.loc[len(result)] = ['BaggingClassifierr', acc_score , macro_precision, macro_recall, macro_f1]"
   ]
  },
  {
   "cell_type": "code",
   "execution_count": 61,
   "metadata": {},
   "outputs": [
    {
     "name": "stdout",
     "output_type": "stream",
     "text": [
      "Train Accuracy Score: 0.9851647227337835\n",
      "Test Accuracy Score: 0.9435614093111029\n"
     ]
    }
   ],
   "source": [
    "model7 = ExtraTreesClassifier() GradientBoostingClassifier\n",
    "model7.fit(X_train1, y_train1)\n",
    "\n",
    "y_train_pred=model7.predict(X_test_of_train)\n",
    "train_score=accuracy_score(y_test_of_train, y_train_pred)\n",
    "\n",
    "y_test_pred=model7.predict(X_test_main)\n",
    "test_score=accuracy_score(y_test_main, y_test_pred)\n",
    "\n",
    "print(\"Train Accuracy Score: {}\".format(train_score))\n",
    "print(\"Test Accuracy Score: {}\".format(test_score))"
   ]
  },
  {
   "cell_type": "code",
   "execution_count": 62,
   "metadata": {},
   "outputs": [],
   "source": [
    "acc_score=accuracy_score(y_test_main, y_test_pred)\n",
    "report = classification_report(y_test_main, y_test_pred, output_dict=True)\n",
    "macro_precision =  report['macro avg']['precision'] \n",
    "macro_recall = report['macro avg']['recall']    \n",
    "macro_f1 = report['macro avg']['f1-score']\n",
    "result.loc[len(result)] = ['ExtraTreesClassifier', acc_score , macro_precision, macro_recall, macro_f1]"
   ]
  },
  {
   "cell_type": "code",
   "execution_count": 63,
   "metadata": {},
   "outputs": [
    {
     "name": "stdout",
     "output_type": "stream",
     "text": [
      "Train Accuracy Score: 0.7937832514835277\n",
      "Test Accuracy Score: 0.8068130970214588\n"
     ]
    }
   ],
   "source": [
    "model8 = GradientBoostingClassifier()\n",
    "model8.fit(X_train1, y_train1)\n",
    "\n",
    "y_train_pred=model8.predict(X_test_of_train)\n",
    "train_score=accuracy_score(y_test_of_train, y_train_pred)\n",
    "\n",
    "y_test_pred=model8.predict(X_test_main)\n",
    "test_score=accuracy_score(y_test_main, y_test_pred)\n",
    "\n",
    "print(\"Train Accuracy Score: {}\".format(train_score))\n",
    "print(\"Test Accuracy Score: {}\".format(test_score))"
   ]
  },
  {
   "cell_type": "code",
   "execution_count": 64,
   "metadata": {},
   "outputs": [],
   "source": [
    "acc_score=accuracy_score(y_test_main, y_test_pred)\n",
    "report = classification_report(y_test_main, y_test_pred, output_dict=True)\n",
    "macro_precision =  report['macro avg']['precision'] \n",
    "macro_recall = report['macro avg']['recall']    \n",
    "macro_f1 = report['macro avg']['f1-score']\n",
    "result.loc[len(result)] = ['GradientBoostingClassifier', acc_score , macro_precision, macro_recall, macro_f1]"
   ]
  },
  {
   "cell_type": "code",
   "execution_count": 66,
   "metadata": {},
   "outputs": [
    {
     "name": "stdout",
     "output_type": "stream",
     "text": [
      "Train Accuracy Score: 0.7323703192142419\n",
      "Test Accuracy Score: 0.6038890293963153\n"
     ]
    }
   ],
   "source": [
    "model9 = SGDClassifier()\n",
    "model9.fit(X_train1, y_train1)\n",
    "\n",
    "y_train_pred=model9.predict(X_test_of_train)\n",
    "train_score=accuracy_score(y_test_of_train, y_train_pred)\n",
    "\n",
    "y_test_pred=model9.predict(X_test_main)\n",
    "test_score=accuracy_score(y_test_main, y_test_pred)\n",
    "\n",
    "print(\"Train Accuracy Score: {}\".format(train_score))\n",
    "print(\"Test Accuracy Score: {}\".format(test_score))"
   ]
  },
  {
   "cell_type": "code",
   "execution_count": 67,
   "metadata": {},
   "outputs": [],
   "source": [
    "acc_score=accuracy_score(y_test_main, y_test_pred)\n",
    "report = classification_report(y_test_main, y_test_pred, output_dict=True)\n",
    "macro_precision =  report['macro avg']['precision'] \n",
    "macro_recall = report['macro avg']['recall']    \n",
    "macro_f1 = report['macro avg']['f1-score']\n",
    "result.loc[len(result)] = ['SGDClassifier', acc_score , macro_precision, macro_recall, macro_f1]"
   ]
  },
  {
   "cell_type": "markdown",
   "metadata": {},
   "source": [
    "## Results"
   ]
  },
  {
   "cell_type": "code",
   "execution_count": 75,
   "metadata": {},
   "outputs": [
    {
     "data": {
      "text/html": [
       "<div>\n",
       "<style scoped>\n",
       "    .dataframe tbody tr th:only-of-type {\n",
       "        vertical-align: middle;\n",
       "    }\n",
       "\n",
       "    .dataframe tbody tr th {\n",
       "        vertical-align: top;\n",
       "    }\n",
       "\n",
       "    .dataframe thead th {\n",
       "        text-align: right;\n",
       "    }\n",
       "</style>\n",
       "<table border=\"1\" class=\"dataframe\">\n",
       "  <thead>\n",
       "    <tr style=\"text-align: right;\">\n",
       "      <th></th>\n",
       "      <th>Algorithm used</th>\n",
       "      <th>Accuracy score</th>\n",
       "      <th>Macro precision</th>\n",
       "      <th>Macro recall</th>\n",
       "      <th>Macro F1</th>\n",
       "    </tr>\n",
       "  </thead>\n",
       "  <tbody>\n",
       "    <tr>\n",
       "      <th>6</th>\n",
       "      <td>ExtraTreesClassifier</td>\n",
       "      <td>0.943561</td>\n",
       "      <td>0.700556</td>\n",
       "      <td>0.700705</td>\n",
       "      <td>0.700631</td>\n",
       "    </tr>\n",
       "    <tr>\n",
       "      <th>3</th>\n",
       "      <td>Random Forest</td>\n",
       "      <td>0.941305</td>\n",
       "      <td>0.692551</td>\n",
       "      <td>0.705749</td>\n",
       "      <td>0.698885</td>\n",
       "    </tr>\n",
       "    <tr>\n",
       "      <th>5</th>\n",
       "      <td>BaggingClassifierr</td>\n",
       "      <td>0.939807</td>\n",
       "      <td>0.686875</td>\n",
       "      <td>0.705054</td>\n",
       "      <td>0.695451</td>\n",
       "    </tr>\n",
       "    <tr>\n",
       "      <th>1</th>\n",
       "      <td>Decision Trees</td>\n",
       "      <td>0.920303</td>\n",
       "      <td>0.636399</td>\n",
       "      <td>0.703164</td>\n",
       "      <td>0.661257</td>\n",
       "    </tr>\n",
       "    <tr>\n",
       "      <th>2</th>\n",
       "      <td>Decision Trees with Tuning</td>\n",
       "      <td>0.883465</td>\n",
       "      <td>0.602639</td>\n",
       "      <td>0.736235</td>\n",
       "      <td>0.631925</td>\n",
       "    </tr>\n",
       "    <tr>\n",
       "      <th>4</th>\n",
       "      <td>XGBClassifier</td>\n",
       "      <td>0.817883</td>\n",
       "      <td>0.583746</td>\n",
       "      <td>0.793338</td>\n",
       "      <td>0.594880</td>\n",
       "    </tr>\n",
       "    <tr>\n",
       "      <th>7</th>\n",
       "      <td>GradientBoostingClassifier</td>\n",
       "      <td>0.806813</td>\n",
       "      <td>0.580299</td>\n",
       "      <td>0.793187</td>\n",
       "      <td>0.586832</td>\n",
       "    </tr>\n",
       "    <tr>\n",
       "      <th>0</th>\n",
       "      <td>Logistic Regression</td>\n",
       "      <td>0.659744</td>\n",
       "      <td>0.550123</td>\n",
       "      <td>0.749297</td>\n",
       "      <td>0.491155</td>\n",
       "    </tr>\n",
       "    <tr>\n",
       "      <th>8</th>\n",
       "      <td>SGDClassifier</td>\n",
       "      <td>0.603889</td>\n",
       "      <td>0.544673</td>\n",
       "      <td>0.732839</td>\n",
       "      <td>0.459357</td>\n",
       "    </tr>\n",
       "  </tbody>\n",
       "</table>\n",
       "</div>"
      ],
      "text/plain": [
       "               Algorithm used  Accuracy score  Macro precision  Macro recall  \\\n",
       "6        ExtraTreesClassifier        0.943561         0.700556      0.700705   \n",
       "3               Random Forest        0.941305         0.692551      0.705749   \n",
       "5          BaggingClassifierr        0.939807         0.686875      0.705054   \n",
       "1              Decision Trees        0.920303         0.636399      0.703164   \n",
       "2  Decision Trees with Tuning        0.883465         0.602639      0.736235   \n",
       "4               XGBClassifier        0.817883         0.583746      0.793338   \n",
       "7  GradientBoostingClassifier        0.806813         0.580299      0.793187   \n",
       "0         Logistic Regression        0.659744         0.550123      0.749297   \n",
       "8               SGDClassifier        0.603889         0.544673      0.732839   \n",
       "\n",
       "   Macro F1  \n",
       "6  0.700631  \n",
       "3  0.698885  \n",
       "5  0.695451  \n",
       "1  0.661257  \n",
       "2  0.631925  \n",
       "4  0.594880  \n",
       "7  0.586832  \n",
       "0  0.491155  \n",
       "8  0.459357  "
      ]
     },
     "execution_count": 75,
     "metadata": {},
     "output_type": "execute_result"
    }
   ],
   "source": [
    "result.sort_values(by='Accuracy score', ascending=False)"
   ]
  },
  {
   "cell_type": "markdown",
   "metadata": {},
   "source": [
    "## Conclusion"
   ]
  },
  {
   "cell_type": "markdown",
   "metadata": {},
   "source": [
    "ExtraTreesClassifier show the best result and we implement imbalance issue, some tuning, forwards selection and cleaning of data. We use about 9 model of classification. Result you can see above"
   ]
  },
  {
   "cell_type": "markdown",
   "metadata": {},
   "source": [
    "## Task 2:\n",
    "1. Select any dataset that will suit for clustering\n",
    "2. Observe your data\n",
    "3. Apply some data preparation\n",
    "4. Apply clustering model\n",
    "5. Visualise your obtained clusters"
   ]
  }
 ],
 "metadata": {
  "kernelspec": {
   "display_name": "Python 3",
   "language": "python",
   "name": "python3"
  },
  "language_info": {
   "codemirror_mode": {
    "name": "ipython",
    "version": 3
   },
   "file_extension": ".py",
   "mimetype": "text/x-python",
   "name": "python",
   "nbconvert_exporter": "python",
   "pygments_lexer": "ipython3",
   "version": "3.8.8"
  }
 },
 "nbformat": 4,
 "nbformat_minor": 4
}
